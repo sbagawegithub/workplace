{
 "cells": [
  {
   "cell_type": "markdown",
   "id": "09bb39ac",
   "metadata": {},
   "source": [
    "## Python Course Assignment 1"
   ]
  },
  {
   "cell_type": "code",
   "execution_count": 1,
   "id": "188fcb2a",
   "metadata": {},
   "outputs": [],
   "source": [
    "def raise_to(a,b):\n",
    "    return a**b"
   ]
  },
  {
   "cell_type": "code",
   "execution_count": 2,
   "id": "2d540c71",
   "metadata": {},
   "outputs": [
    {
     "data": {
      "text/plain": [
       "2401"
      ]
     },
     "execution_count": 2,
     "metadata": {},
     "output_type": "execute_result"
    }
   ],
   "source": [
    "raise_to(7,4)"
   ]
  },
  {
   "cell_type": "code",
   "execution_count": 3,
   "id": "a812ea04",
   "metadata": {},
   "outputs": [],
   "source": [
    "s=\"Hi there Yogesh!\""
   ]
  },
  {
   "cell_type": "code",
   "execution_count": 4,
   "id": "830df1f8",
   "metadata": {},
   "outputs": [
    {
     "data": {
      "text/plain": [
       "['Hi', 'there', 'Yogesh!']"
      ]
     },
     "execution_count": 4,
     "metadata": {},
     "output_type": "execute_result"
    }
   ],
   "source": [
    "s.split()"
   ]
  },
  {
   "cell_type": "code",
   "execution_count": 5,
   "id": "628374da",
   "metadata": {},
   "outputs": [],
   "source": [
    "planet = \"Earth\"\n",
    "diameter = 12742"
   ]
  },
  {
   "cell_type": "code",
   "execution_count": 6,
   "id": "2e45187f",
   "metadata": {},
   "outputs": [
    {
     "name": "stdout",
     "output_type": "stream",
     "text": [
      "'The diameter of Earth is 12742 kilometers'\n"
     ]
    }
   ],
   "source": [
    "print(\"'The diameter of {} is {} kilometers'\".format(\"Earth\",\"12742\"))"
   ]
  },
  {
   "cell_type": "code",
   "execution_count": 7,
   "id": "1cc3236f",
   "metadata": {},
   "outputs": [],
   "source": [
    "lst = [1,2,[3,4],[5,[100,200,[\"'hello'\"]],23,11],1,7]"
   ]
  },
  {
   "cell_type": "code",
   "execution_count": 8,
   "id": "ac6244e1",
   "metadata": {},
   "outputs": [
    {
     "name": "stdout",
     "output_type": "stream",
     "text": [
      "'hello'\n"
     ]
    }
   ],
   "source": [
    "print(lst[3][1][2][0])"
   ]
  },
  {
   "cell_type": "code",
   "execution_count": 9,
   "id": "9e27ad00",
   "metadata": {},
   "outputs": [],
   "source": [
    "d = {'k1':[1,2,3,{'tricky':['oh','man','inception',{'target':[1,2,3,'hello']}]}]}"
   ]
  },
  {
   "cell_type": "code",
   "execution_count": 10,
   "id": "92d67032",
   "metadata": {},
   "outputs": [
    {
     "data": {
      "text/plain": [
       "'hello'"
      ]
     },
     "execution_count": 10,
     "metadata": {},
     "output_type": "execute_result"
    }
   ],
   "source": [
    "d['k1'][3]['tricky'][3]['target'][3]"
   ]
  },
  {
   "cell_type": "code",
   "execution_count": 11,
   "id": "33b70db1",
   "metadata": {},
   "outputs": [],
   "source": [
    "list1=[3,56,78,26,11]"
   ]
  },
  {
   "cell_type": "code",
   "execution_count": 13,
   "id": "ab7d67be",
   "metadata": {},
   "outputs": [],
   "source": [
    "list1.append(13)"
   ]
  },
  {
   "cell_type": "code",
   "execution_count": 14,
   "id": "793a4509",
   "metadata": {},
   "outputs": [
    {
     "data": {
      "text/plain": [
       "[3, 56, 78, 26, 11, 13, 13]"
      ]
     },
     "execution_count": 14,
     "metadata": {},
     "output_type": "execute_result"
    }
   ],
   "source": [
    "list1"
   ]
  },
  {
   "cell_type": "code",
   "execution_count": 15,
   "id": "554ed7a4",
   "metadata": {},
   "outputs": [],
   "source": [
    "tuple=(3,56,78,26,11)"
   ]
  },
  {
   "cell_type": "code",
   "execution_count": 16,
   "id": "01da0ed4",
   "metadata": {},
   "outputs": [
    {
     "ename": "AttributeError",
     "evalue": "'tuple' object has no attribute 'append'",
     "output_type": "error",
     "traceback": [
      "\u001b[1;31m---------------------------------------------------------------------------\u001b[0m",
      "\u001b[1;31mAttributeError\u001b[0m                            Traceback (most recent call last)",
      "\u001b[1;32m~\\AppData\\Local\\Temp/ipykernel_7220/1980312612.py\u001b[0m in \u001b[0;36m<module>\u001b[1;34m\u001b[0m\n\u001b[1;32m----> 1\u001b[1;33m \u001b[0mtuple\u001b[0m\u001b[1;33m.\u001b[0m\u001b[0mappend\u001b[0m\u001b[1;33m(\u001b[0m\u001b[1;36m13\u001b[0m\u001b[1;33m)\u001b[0m\u001b[1;33m\u001b[0m\u001b[1;33m\u001b[0m\u001b[0m\n\u001b[0m",
      "\u001b[1;31mAttributeError\u001b[0m: 'tuple' object has no attribute 'append'"
     ]
    }
   ],
   "source": [
    "tuple.append(13)"
   ]
  },
  {
   "cell_type": "markdown",
   "id": "223bbdcf",
   "metadata": {},
   "source": [
    "### Tuples are immutable"
   ]
  },
  {
   "cell_type": "code",
   "execution_count": 17,
   "id": "b3bc9330",
   "metadata": {},
   "outputs": [],
   "source": [
    "def my_function(email):\n",
    "    return email.split('@')[-1]"
   ]
  },
  {
   "cell_type": "code",
   "execution_count": 18,
   "id": "c1137476",
   "metadata": {},
   "outputs": [
    {
     "data": {
      "text/plain": [
       "'gmail.com'"
      ]
     },
     "execution_count": 18,
     "metadata": {},
     "output_type": "execute_result"
    }
   ],
   "source": [
    "my_function(\"xyz@gmail.com\")"
   ]
  },
  {
   "cell_type": "code",
   "execution_count": 19,
   "id": "2c7d73ab",
   "metadata": {},
   "outputs": [],
   "source": [
    "def findDog(z):\n",
    "    return 'dog' in z"
   ]
  },
  {
   "cell_type": "code",
   "execution_count": 20,
   "id": "cc036aaf",
   "metadata": {},
   "outputs": [
    {
     "data": {
      "text/plain": [
       "True"
      ]
     },
     "execution_count": 20,
     "metadata": {},
     "output_type": "execute_result"
    }
   ],
   "source": [
    "findDog('Is there a dog here?')"
   ]
  },
  {
   "cell_type": "code",
   "execution_count": 21,
   "id": "ccf90369",
   "metadata": {},
   "outputs": [
    {
     "data": {
      "text/plain": [
       "False"
      ]
     },
     "execution_count": 21,
     "metadata": {},
     "output_type": "execute_result"
    }
   ],
   "source": [
    "findDog('Is there a Dog here?')"
   ]
  },
  {
   "cell_type": "code",
   "execution_count": 22,
   "id": "7840ad9f",
   "metadata": {},
   "outputs": [],
   "source": [
    "def findDog(z):\n",
    "    return 'dog' in z.capitalize()"
   ]
  },
  {
   "cell_type": "code",
   "execution_count": 23,
   "id": "ca6d11d1",
   "metadata": {},
   "outputs": [
    {
     "data": {
      "text/plain": [
       "True"
      ]
     },
     "execution_count": 23,
     "metadata": {},
     "output_type": "execute_result"
    }
   ],
   "source": [
    "findDog('Is there a Dog here?')"
   ]
  },
  {
   "cell_type": "code",
   "execution_count": 24,
   "id": "57deb83f",
   "metadata": {},
   "outputs": [
    {
     "data": {
      "text/plain": [
       "True"
      ]
     },
     "execution_count": 24,
     "metadata": {},
     "output_type": "execute_result"
    }
   ],
   "source": [
    "findDog('Is there a dog here?')"
   ]
  },
  {
   "cell_type": "code",
   "execution_count": 25,
   "id": "12164e4d",
   "metadata": {},
   "outputs": [
    {
     "data": {
      "text/plain": [
       "True"
      ]
     },
     "execution_count": 25,
     "metadata": {},
     "output_type": "execute_result"
    }
   ],
   "source": [
    "findDog('Is there a DOG here?')"
   ]
  },
  {
   "cell_type": "code",
   "execution_count": 26,
   "id": "1843533d",
   "metadata": {},
   "outputs": [],
   "source": [
    "def countDog(a):\n",
    "    return  a.count('dog')"
   ]
  },
  {
   "cell_type": "code",
   "execution_count": 27,
   "id": "e8701134",
   "metadata": {},
   "outputs": [
    {
     "data": {
      "text/plain": [
       "3"
      ]
     },
     "execution_count": 27,
     "metadata": {},
     "output_type": "execute_result"
    }
   ],
   "source": [
    "countDog('Is there a dog  dog here dog?')"
   ]
  },
  {
   "cell_type": "code",
   "execution_count": 28,
   "id": "d7420c8a",
   "metadata": {},
   "outputs": [
    {
     "data": {
      "text/plain": [
       "2"
      ]
     },
     "execution_count": 28,
     "metadata": {},
     "output_type": "execute_result"
    }
   ],
   "source": [
    "countDog('This dog runs faster than the other dog dude!')"
   ]
  },
  {
   "cell_type": "code",
   "execution_count": 29,
   "id": "236e8be0",
   "metadata": {},
   "outputs": [],
   "source": [
    "seq = ['soup','dog','salad','cat','great']"
   ]
  },
  {
   "cell_type": "code",
   "execution_count": 30,
   "id": "cd2e447a",
   "metadata": {},
   "outputs": [
    {
     "data": {
      "text/plain": [
       "(<function __main__.<lambda>(x)>, ['soup', 'dog', 'salad', 'cat', 'great'])"
      ]
     },
     "execution_count": 30,
     "metadata": {},
     "output_type": "execute_result"
    }
   ],
   "source": [
    "(lambda x:x[0]==\"s\",seq)"
   ]
  },
  {
   "cell_type": "code",
   "execution_count": 31,
   "id": "11b7d6e4",
   "metadata": {},
   "outputs": [
    {
     "name": "stdout",
     "output_type": "stream",
     "text": [
      "['soup', 'salad']\n"
     ]
    }
   ],
   "source": [
    "a=list(filter(lambda x:x[0]==\"s\",seq))\n",
    "print(a)"
   ]
  },
  {
   "cell_type": "code",
   "execution_count": 32,
   "id": "02e1f88e",
   "metadata": {},
   "outputs": [],
   "source": [
    "def caught_speeding(speed,birthday):\n",
    "    if birthday:\n",
    "        speed2=speed-5\n",
    "    else:\n",
    "        speed2=speed\n",
    "    if speed2>80:\n",
    "        return \"BIG TICKET\"\n",
    "    elif speed2>60:\n",
    "        return \"SMALL TICKET\"\n",
    "    else:\n",
    "        return \"NO TICKET\""
   ]
  },
  {
   "cell_type": "code",
   "execution_count": 33,
   "id": "d99458de",
   "metadata": {},
   "outputs": [
    {
     "data": {
      "text/plain": [
       "'BIG TICKET'"
      ]
     },
     "execution_count": 33,
     "metadata": {},
     "output_type": "execute_result"
    }
   ],
   "source": [
    "caught_speeding(81,False)"
   ]
  },
  {
   "cell_type": "code",
   "execution_count": 34,
   "id": "c71b6dc0",
   "metadata": {},
   "outputs": [
    {
     "data": {
      "text/plain": [
       "'SMALL TICKET'"
      ]
     },
     "execution_count": 34,
     "metadata": {},
     "output_type": "execute_result"
    }
   ],
   "source": [
    "caught_speeding(81,True)"
   ]
  },
  {
   "cell_type": "code",
   "execution_count": 35,
   "id": "514d92d7",
   "metadata": {},
   "outputs": [
    {
     "name": "stdout",
     "output_type": "stream",
     "text": [
      "Enter the String:-123abcd\n",
      "-123\n"
     ]
    }
   ],
   "source": [
    "s=input(\"Enter the String:\")\n",
    "num=\"\"\n",
    "digits=[0,1,2,3,4,5,6,7,8,9]\n",
    "if s==\"\":\n",
    "    print(\"Please enter something:\")\n",
    "else:\n",
    "    if s[0]==\"-\":\n",
    "        num=num+s[0]\n",
    "    for c in s:\n",
    "        if c in str(digits):\n",
    "            num=num+c\n",
    "    print(num)"
   ]
  },
  {
   "cell_type": "code",
   "execution_count": 36,
   "id": "166f5a6d",
   "metadata": {},
   "outputs": [
    {
     "name": "stdout",
     "output_type": "stream",
     "text": [
      "Enter the String:abcd456\n",
      "456\n"
     ]
    }
   ],
   "source": [
    "s=input(\"Enter the String:\")\n",
    "num=\"\"\n",
    "digits=[0,1,2,3,4,5,6,7,8,9]\n",
    "if s==\"\":\n",
    "    print(\"Please enter something:\")\n",
    "else:\n",
    "    if s[0]==\"-\":\n",
    "        num=num+s[0]\n",
    "    for c in s:\n",
    "        if c in str(digits):\n",
    "            num=num+c\n",
    "    print(num)"
   ]
  },
  {
   "cell_type": "code",
   "execution_count": 37,
   "id": "fe9d8a1b",
   "metadata": {},
   "outputs": [
    {
     "name": "stdout",
     "output_type": "stream",
     "text": [
      "Enter the String:fdhfh78dsd89\n",
      "7889\n"
     ]
    }
   ],
   "source": [
    "s=input(\"Enter the String:\")\n",
    "num=\"\"\n",
    "digits=[0,1,2,3,4,5,6,7,8,9]\n",
    "if s==\"\":\n",
    "    print(\"Please enter something:\")\n",
    "else:\n",
    "    if s[0]==\"-\":\n",
    "        num=num+s[0]\n",
    "    for c in s:\n",
    "        if c in str(digits):\n",
    "            num=num+c\n",
    "    print(num)"
   ]
  },
  {
   "cell_type": "code",
   "execution_count": 1,
   "id": "b6d8f2f9",
   "metadata": {},
   "outputs": [
    {
     "name": "stdout",
     "output_type": "stream",
     "text": [
      "Enter the Number:26\n",
      "Palindrome is: 88\n"
     ]
    }
   ],
   "source": [
    "number1=input(\"Enter the Number:\")\n",
    "number2=int(number1[::-1])\n",
    "number3=str(int(number1)+number2)\n",
    "while str(number3)!=str(number3[::-1]):\n",
    "    number3=str(int(number3)+int(number3[::-1]))\n",
    "    print(\"Number is:\",number3)\n",
    "    print(\"Reverse is:\",number3[::-1])\n",
    "print(\"Palindrome is:\",number3)"
   ]
  },
  {
   "cell_type": "code",
   "execution_count": 2,
   "id": "2a2e85e3",
   "metadata": {},
   "outputs": [
    {
     "name": "stdout",
     "output_type": "stream",
     "text": [
      "Enter the Number:76\n",
      "Number is: 484\n",
      "Reverse is: 484\n",
      "Palindrome is: 484\n"
     ]
    }
   ],
   "source": [
    "number1=input(\"Enter the Number:\")\n",
    "number2=int(number1[::-1])\n",
    "number3=str(int(number1)+number2)\n",
    "while str(number3)!=str(number3[::-1]):\n",
    "    number3=str(int(number3)+int(number3[::-1]))\n",
    "    print(\"Number is:\",number3)\n",
    "    print(\"Reverse is:\",number3[::-1])\n",
    "print(\"Palindrome is:\",number3)"
   ]
  },
  {
   "cell_type": "code",
   "execution_count": 1,
   "id": "c1abc800",
   "metadata": {},
   "outputs": [
    {
     "name": "stdout",
     "output_type": "stream",
     "text": [
      "Enter the Number:98\n",
      "Number is: 968\n",
      "Reverse is: 869\n",
      "Number is: 1837\n",
      "Reverse is: 7381\n",
      "Number is: 9218\n",
      "Reverse is: 8129\n",
      "Number is: 17347\n",
      "Reverse is: 74371\n",
      "Number is: 91718\n",
      "Reverse is: 81719\n",
      "Number is: 173437\n",
      "Reverse is: 734371\n",
      "Number is: 907808\n",
      "Reverse is: 808709\n",
      "Number is: 1716517\n",
      "Reverse is: 7156171\n",
      "Number is: 8872688\n",
      "Reverse is: 8862788\n",
      "Number is: 17735476\n",
      "Reverse is: 67453771\n",
      "Number is: 85189247\n",
      "Reverse is: 74298158\n",
      "Number is: 159487405\n",
      "Reverse is: 504784951\n",
      "Number is: 664272356\n",
      "Reverse is: 653272466\n",
      "Number is: 1317544822\n",
      "Reverse is: 2284457131\n",
      "Number is: 3602001953\n",
      "Reverse is: 3591002063\n",
      "Number is: 7193004016\n",
      "Reverse is: 6104003917\n",
      "Number is: 13297007933\n",
      "Reverse is: 33970079231\n",
      "Number is: 47267087164\n",
      "Reverse is: 46178076274\n",
      "Number is: 93445163438\n",
      "Reverse is: 83436154439\n",
      "Number is: 176881317877\n",
      "Reverse is: 778713188671\n",
      "Number is: 955594506548\n",
      "Reverse is: 845605495559\n",
      "Number is: 1801200002107\n",
      "Reverse is: 7012000021081\n",
      "Number is: 8813200023188\n",
      "Reverse is: 8813200023188\n",
      "Palindrome is: 8813200023188\n"
     ]
    }
   ],
   "source": [
    "number1=input(\"Enter the Number:\")\n",
    "number2=int(number1[::-1])\n",
    "number3=str(int(number1)+number2)\n",
    "while str(number3)!=str(number3[::-1]):\n",
    "    number3=str(int(number3)+int(number3[::-1]))\n",
    "    print(\"Number is:\",number3)\n",
    "    print(\"Reverse is:\",number3[::-1])\n",
    "print(\"Palindrome is:\",number3)"
   ]
  },
  {
   "cell_type": "code",
   "execution_count": null,
   "id": "63bf8c5a",
   "metadata": {},
   "outputs": [],
   "source": [
    "def find_five_digit():\n",
    "    for i in range (9,0,-1):\n",
    "        a1=i\n",
    "        a2=i-2\n",
    "        a3=i-4\n",
    "        a4=i-6\n",
    "        a5=i-4\n",
    "        if(a1==a3+a4+a5 and sum([a1,a2,a3,a4,a5]))==19:\n",
    "            num=0\n",
    "    for i in [d1,d2,d3,d4,d5]:\n",
    "        num=num*10+i\n",
    "        print(num)\n",
    "    else:\n",
    "        continue\n",
    "find_five_digit()"
   ]
  },
  {
   "cell_type": "code",
   "execution_count": null,
   "id": "669e08f4",
   "metadata": {},
   "outputs": [],
   "source": []
  }
 ],
 "metadata": {
  "kernelspec": {
   "display_name": "Python 3 (ipykernel)",
   "language": "python",
   "name": "python3"
  },
  "language_info": {
   "codemirror_mode": {
    "name": "ipython",
    "version": 3
   },
   "file_extension": ".py",
   "mimetype": "text/x-python",
   "name": "python",
   "nbconvert_exporter": "python",
   "pygments_lexer": "ipython3",
   "version": "3.9.7"
  }
 },
 "nbformat": 4,
 "nbformat_minor": 5
}
